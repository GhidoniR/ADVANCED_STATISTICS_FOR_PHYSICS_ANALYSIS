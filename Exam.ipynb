{
 "cells": [
  {
   "cell_type": "markdown",
   "id": "studied-sponsorship",
   "metadata": {},
   "source": [
    "# Exam\n",
    "\n",
    "\n",
    "\n",
    "## Advanced Statistics for Physics Analysis\n",
    "\n",
    "\n",
    "### 14/6/2021\n",
    "\n",
    "\n",
    "Rebecca Ghidoni [ID: 2026709]\n",
    "***"
   ]
  },
  {
   "cell_type": "code",
   "execution_count": 4,
   "id": "sublime-decision",
   "metadata": {},
   "outputs": [
    {
     "name": "stderr",
     "output_type": "stream",
     "text": [
      "Loading required package: KernSmooth\n",
      "KernSmooth 2.23 loaded\n",
      "Copyright M. P. Wand 1997-2009\n"
     ]
    }
   ],
   "source": [
    "library(dplyr)\n",
    "library(tibble)\n",
    "library(tidyverse)\n",
    "library (readr)\n",
    "library(GoFKernel)\n",
    "\n",
    "options(repr.plot.width=9, repr.plot.height=4)"
   ]
  }
 ],
 "metadata": {
  "kernelspec": {
   "display_name": "R",
   "language": "R",
   "name": "ir"
  },
  "language_info": {
   "codemirror_mode": "r",
   "file_extension": ".r",
   "mimetype": "text/x-r-source",
   "name": "R",
   "pygments_lexer": "r",
   "version": "3.6.1"
  }
 },
 "nbformat": 4,
 "nbformat_minor": 5
}
